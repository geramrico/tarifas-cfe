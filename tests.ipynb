{
 "metadata": {
  "language_info": {
   "codemirror_mode": {
    "name": "ipython",
    "version": 3
   },
   "file_extension": ".py",
   "mimetype": "text/x-python",
   "name": "python",
   "nbconvert_exporter": "python",
   "pygments_lexer": "ipython3",
   "version": "3.9.0"
  },
  "orig_nbformat": 4,
  "kernelspec": {
   "name": "python3",
   "display_name": "Python 3.9.0 64-bit"
  },
  "interpreter": {
   "hash": "b771df7eced45a3e75909e03fa174611ae517c5c79dceba84595642445d71eb2"
  }
 },
 "nbformat": 4,
 "nbformat_minor": 2,
 "cells": [
  {
   "cell_type": "code",
   "execution_count": 33,
   "metadata": {},
   "outputs": [],
   "source": [
    "import pandas as pd\n"
   ]
  },
  {
   "cell_type": "code",
   "execution_count": 34,
   "metadata": {},
   "outputs": [],
   "source": [
    "options_tariffs = ['GDMTH', 'DIST', 'DIT']\n",
    "#Turn CSV to Pandas Dataframe\n",
    "data = pd.read_csv('TFSB.csv')\n",
    "#Get only GDMTH DIST and DIT Tariffs\n",
    "data = data[data['Tarifa'].isin(options_tariffs)]\n",
    "#Get unique months list for multiselection\n",
    "options_months = data['Mes'].unique().tolist()\n",
    "#Get unique division list for multiselection\n",
    "options_division = data['Division'].unique().tolist()"
   ]
  },
  {
   "cell_type": "code",
   "execution_count": 35,
   "metadata": {},
   "outputs": [],
   "source": [
    "selected_months = 'diciembre 2020'\n",
    "selected_tariff = 'GDMTH'\n",
    "selected_division = 'Golfo Norte'\n",
    "\n",
    "data = data[\n",
    "                (data['Mes'] == selected_months) &\n",
    "                (data['Division'] == selected_division) &\n",
    "                (data['Tarifa'] == selected_tariff)\n",
    "            ]"
   ]
  },
  {
   "cell_type": "code",
   "execution_count": 36,
   "metadata": {},
   "outputs": [
    {
     "output_type": "execute_result",
     "data": {
      "text/plain": [
       "                  Mes Tarifa      Segmento   Unidades  Concepto     Division  \\\n",
       "15595  diciembre 2020  GDMTH        CENACE      $/kWh   Energia  Golfo Norte   \n",
       "15940  diciembre 2020  GDMTH    Generacion      $/kWh   Energia  Golfo Norte   \n",
       "15941  diciembre 2020  GDMTH    Generacion      $/kWh   Energia  Golfo Norte   \n",
       "15942  diciembre 2020  GDMTH    Generacion      $/kWh   Energia  Golfo Norte   \n",
       "16224  diciembre 2020  GDMTH   Transmision      $/kWh   Energia  Golfo Norte   \n",
       "16374  diciembre 2020  GDMTH  Distribucion       $/kW  Potencia  Golfo Norte   \n",
       "16513  diciembre 2020  GDMTH     Capacidad       $/kW  Potencia  Golfo Norte   \n",
       "16717  diciembre 2020  GDMTH    Suministro  $/Cliente  Usuarios  Golfo Norte   \n",
       "16921  diciembre 2020  GDMTH        SCnMEM      $/kWh   Energia  Golfo Norte   \n",
       "\n",
       "      Int. Horario Cargos tarifarios  \n",
       "15595          NaN            0.0080  \n",
       "15940            B            0.6694  \n",
       "15941            I            1.1261  \n",
       "15942            P            1.2355  \n",
       "16224          NaN            0.1679  \n",
       "16374          NaN           56.5600  \n",
       "16513          NaN          325.0169  \n",
       "16717          NaN          558.8100  \n",
       "16921          NaN            0.0056  "
      ],
      "text/html": "<div>\n<style scoped>\n    .dataframe tbody tr th:only-of-type {\n        vertical-align: middle;\n    }\n\n    .dataframe tbody tr th {\n        vertical-align: top;\n    }\n\n    .dataframe thead th {\n        text-align: right;\n    }\n</style>\n<table border=\"1\" class=\"dataframe\">\n  <thead>\n    <tr style=\"text-align: right;\">\n      <th></th>\n      <th>Mes</th>\n      <th>Tarifa</th>\n      <th>Segmento</th>\n      <th>Unidades</th>\n      <th>Concepto</th>\n      <th>Division</th>\n      <th>Int. Horario</th>\n      <th>Cargos tarifarios</th>\n    </tr>\n  </thead>\n  <tbody>\n    <tr>\n      <th>15595</th>\n      <td>diciembre 2020</td>\n      <td>GDMTH</td>\n      <td>CENACE</td>\n      <td>$/kWh</td>\n      <td>Energia</td>\n      <td>Golfo Norte</td>\n      <td>NaN</td>\n      <td>0.0080</td>\n    </tr>\n    <tr>\n      <th>15940</th>\n      <td>diciembre 2020</td>\n      <td>GDMTH</td>\n      <td>Generacion</td>\n      <td>$/kWh</td>\n      <td>Energia</td>\n      <td>Golfo Norte</td>\n      <td>B</td>\n      <td>0.6694</td>\n    </tr>\n    <tr>\n      <th>15941</th>\n      <td>diciembre 2020</td>\n      <td>GDMTH</td>\n      <td>Generacion</td>\n      <td>$/kWh</td>\n      <td>Energia</td>\n      <td>Golfo Norte</td>\n      <td>I</td>\n      <td>1.1261</td>\n    </tr>\n    <tr>\n      <th>15942</th>\n      <td>diciembre 2020</td>\n      <td>GDMTH</td>\n      <td>Generacion</td>\n      <td>$/kWh</td>\n      <td>Energia</td>\n      <td>Golfo Norte</td>\n      <td>P</td>\n      <td>1.2355</td>\n    </tr>\n    <tr>\n      <th>16224</th>\n      <td>diciembre 2020</td>\n      <td>GDMTH</td>\n      <td>Transmision</td>\n      <td>$/kWh</td>\n      <td>Energia</td>\n      <td>Golfo Norte</td>\n      <td>NaN</td>\n      <td>0.1679</td>\n    </tr>\n    <tr>\n      <th>16374</th>\n      <td>diciembre 2020</td>\n      <td>GDMTH</td>\n      <td>Distribucion</td>\n      <td>$/kW</td>\n      <td>Potencia</td>\n      <td>Golfo Norte</td>\n      <td>NaN</td>\n      <td>56.5600</td>\n    </tr>\n    <tr>\n      <th>16513</th>\n      <td>diciembre 2020</td>\n      <td>GDMTH</td>\n      <td>Capacidad</td>\n      <td>$/kW</td>\n      <td>Potencia</td>\n      <td>Golfo Norte</td>\n      <td>NaN</td>\n      <td>325.0169</td>\n    </tr>\n    <tr>\n      <th>16717</th>\n      <td>diciembre 2020</td>\n      <td>GDMTH</td>\n      <td>Suministro</td>\n      <td>$/Cliente</td>\n      <td>Usuarios</td>\n      <td>Golfo Norte</td>\n      <td>NaN</td>\n      <td>558.8100</td>\n    </tr>\n    <tr>\n      <th>16921</th>\n      <td>diciembre 2020</td>\n      <td>GDMTH</td>\n      <td>SCnMEM</td>\n      <td>$/kWh</td>\n      <td>Energia</td>\n      <td>Golfo Norte</td>\n      <td>NaN</td>\n      <td>0.0056</td>\n    </tr>\n  </tbody>\n</table>\n</div>"
     },
     "metadata": {},
     "execution_count": 36
    }
   ],
   "source": [
    "data"
   ]
  },
  {
   "cell_type": "code",
   "execution_count": 37,
   "metadata": {},
   "outputs": [],
   "source": [
    "def get_regulated_charges(data):\n",
    "    transmision = float(data.loc[data['Segmento'] == 'Transmision','Cargos tarifarios'].item())  #obtiene el valor\n",
    "    cenace = float(data.loc[data['Segmento'] == 'CENACE','Cargos tarifarios'].item())  #obtiene el valor\n",
    "    SCnMEM = float(data.loc[data['Segmento'] == 'SCnMEM','Cargos tarifarios'].item())  #obtiene el valor\n",
    "    regulated_charges = transmision + cenace + SCnMEM\n",
    "    return regulated_charges"
   ]
  },
  {
   "cell_type": "code",
   "execution_count": 38,
   "metadata": {},
   "outputs": [],
   "source": [
    "def add_regulated_to_energy_tariffs(data,regulated_charges):\n",
    "    for i in ['B','I','P','SP']:\n",
    "        try:\n",
    "            data.loc[data['Int. Horario'] == i,'Cargos tarifarios'] = float(data.loc[data['Int. Horario'] == i,'Cargos tarifarios'].item()) + regulated_charges\n",
    "        except:\n",
    "            pass"
   ]
  },
  {
   "cell_type": "code",
   "execution_count": 39,
   "metadata": {},
   "outputs": [
    {
     "output_type": "execute_result",
     "data": {
      "text/plain": [
       "                  Mes Tarifa      Segmento   Unidades  Concepto     Division  \\\n",
       "15595  diciembre 2020  GDMTH        CENACE      $/kWh   Energia  Golfo Norte   \n",
       "15940  diciembre 2020  GDMTH    Generacion      $/kWh   Energia  Golfo Norte   \n",
       "15941  diciembre 2020  GDMTH    Generacion      $/kWh   Energia  Golfo Norte   \n",
       "15942  diciembre 2020  GDMTH    Generacion      $/kWh   Energia  Golfo Norte   \n",
       "16224  diciembre 2020  GDMTH   Transmision      $/kWh   Energia  Golfo Norte   \n",
       "16374  diciembre 2020  GDMTH  Distribucion       $/kW  Potencia  Golfo Norte   \n",
       "16513  diciembre 2020  GDMTH     Capacidad       $/kW  Potencia  Golfo Norte   \n",
       "16717  diciembre 2020  GDMTH    Suministro  $/Cliente  Usuarios  Golfo Norte   \n",
       "16921  diciembre 2020  GDMTH        SCnMEM      $/kWh   Energia  Golfo Norte   \n",
       "\n",
       "      Int. Horario Cargos tarifarios  \n",
       "15595          NaN            0.0080  \n",
       "15940            B            0.6694  \n",
       "15941            I            1.1261  \n",
       "15942            P            1.2355  \n",
       "16224          NaN            0.1679  \n",
       "16374          NaN           56.5600  \n",
       "16513          NaN          325.0169  \n",
       "16717          NaN          558.8100  \n",
       "16921          NaN            0.0056  "
      ],
      "text/html": "<div>\n<style scoped>\n    .dataframe tbody tr th:only-of-type {\n        vertical-align: middle;\n    }\n\n    .dataframe tbody tr th {\n        vertical-align: top;\n    }\n\n    .dataframe thead th {\n        text-align: right;\n    }\n</style>\n<table border=\"1\" class=\"dataframe\">\n  <thead>\n    <tr style=\"text-align: right;\">\n      <th></th>\n      <th>Mes</th>\n      <th>Tarifa</th>\n      <th>Segmento</th>\n      <th>Unidades</th>\n      <th>Concepto</th>\n      <th>Division</th>\n      <th>Int. Horario</th>\n      <th>Cargos tarifarios</th>\n    </tr>\n  </thead>\n  <tbody>\n    <tr>\n      <th>15595</th>\n      <td>diciembre 2020</td>\n      <td>GDMTH</td>\n      <td>CENACE</td>\n      <td>$/kWh</td>\n      <td>Energia</td>\n      <td>Golfo Norte</td>\n      <td>NaN</td>\n      <td>0.0080</td>\n    </tr>\n    <tr>\n      <th>15940</th>\n      <td>diciembre 2020</td>\n      <td>GDMTH</td>\n      <td>Generacion</td>\n      <td>$/kWh</td>\n      <td>Energia</td>\n      <td>Golfo Norte</td>\n      <td>B</td>\n      <td>0.6694</td>\n    </tr>\n    <tr>\n      <th>15941</th>\n      <td>diciembre 2020</td>\n      <td>GDMTH</td>\n      <td>Generacion</td>\n      <td>$/kWh</td>\n      <td>Energia</td>\n      <td>Golfo Norte</td>\n      <td>I</td>\n      <td>1.1261</td>\n    </tr>\n    <tr>\n      <th>15942</th>\n      <td>diciembre 2020</td>\n      <td>GDMTH</td>\n      <td>Generacion</td>\n      <td>$/kWh</td>\n      <td>Energia</td>\n      <td>Golfo Norte</td>\n      <td>P</td>\n      <td>1.2355</td>\n    </tr>\n    <tr>\n      <th>16224</th>\n      <td>diciembre 2020</td>\n      <td>GDMTH</td>\n      <td>Transmision</td>\n      <td>$/kWh</td>\n      <td>Energia</td>\n      <td>Golfo Norte</td>\n      <td>NaN</td>\n      <td>0.1679</td>\n    </tr>\n    <tr>\n      <th>16374</th>\n      <td>diciembre 2020</td>\n      <td>GDMTH</td>\n      <td>Distribucion</td>\n      <td>$/kW</td>\n      <td>Potencia</td>\n      <td>Golfo Norte</td>\n      <td>NaN</td>\n      <td>56.5600</td>\n    </tr>\n    <tr>\n      <th>16513</th>\n      <td>diciembre 2020</td>\n      <td>GDMTH</td>\n      <td>Capacidad</td>\n      <td>$/kW</td>\n      <td>Potencia</td>\n      <td>Golfo Norte</td>\n      <td>NaN</td>\n      <td>325.0169</td>\n    </tr>\n    <tr>\n      <th>16717</th>\n      <td>diciembre 2020</td>\n      <td>GDMTH</td>\n      <td>Suministro</td>\n      <td>$/Cliente</td>\n      <td>Usuarios</td>\n      <td>Golfo Norte</td>\n      <td>NaN</td>\n      <td>558.8100</td>\n    </tr>\n    <tr>\n      <th>16921</th>\n      <td>diciembre 2020</td>\n      <td>GDMTH</td>\n      <td>SCnMEM</td>\n      <td>$/kWh</td>\n      <td>Energia</td>\n      <td>Golfo Norte</td>\n      <td>NaN</td>\n      <td>0.0056</td>\n    </tr>\n  </tbody>\n</table>\n</div>"
     },
     "metadata": {},
     "execution_count": 39
    }
   ],
   "source": [
    "data"
   ]
  },
  {
   "cell_type": "code",
   "execution_count": 41,
   "metadata": {},
   "outputs": [],
   "source": [
    "reg_charges = get_regulated_charges(data)\n",
    "add_regulated_to_energy_tariffs(data,reg_charges)"
   ]
  },
  {
   "cell_type": "code",
   "execution_count": 42,
   "metadata": {},
   "outputs": [
    {
     "output_type": "execute_result",
     "data": {
      "text/plain": [
       "                  Mes Tarifa      Segmento   Unidades  Concepto     Division  \\\n",
       "15595  diciembre 2020  GDMTH        CENACE      $/kWh   Energia  Golfo Norte   \n",
       "15940  diciembre 2020  GDMTH    Generacion      $/kWh   Energia  Golfo Norte   \n",
       "15941  diciembre 2020  GDMTH    Generacion      $/kWh   Energia  Golfo Norte   \n",
       "15942  diciembre 2020  GDMTH    Generacion      $/kWh   Energia  Golfo Norte   \n",
       "16224  diciembre 2020  GDMTH   Transmision      $/kWh   Energia  Golfo Norte   \n",
       "16374  diciembre 2020  GDMTH  Distribucion       $/kW  Potencia  Golfo Norte   \n",
       "16513  diciembre 2020  GDMTH     Capacidad       $/kW  Potencia  Golfo Norte   \n",
       "16717  diciembre 2020  GDMTH    Suministro  $/Cliente  Usuarios  Golfo Norte   \n",
       "16921  diciembre 2020  GDMTH        SCnMEM      $/kWh   Energia  Golfo Norte   \n",
       "\n",
       "      Int. Horario Cargos tarifarios  \n",
       "15595          NaN            0.0080  \n",
       "15940            B            0.8509  \n",
       "15941            I            1.3076  \n",
       "15942            P             1.417  \n",
       "16224          NaN            0.1679  \n",
       "16374          NaN           56.5600  \n",
       "16513          NaN          325.0169  \n",
       "16717          NaN          558.8100  \n",
       "16921          NaN            0.0056  "
      ],
      "text/html": "<div>\n<style scoped>\n    .dataframe tbody tr th:only-of-type {\n        vertical-align: middle;\n    }\n\n    .dataframe tbody tr th {\n        vertical-align: top;\n    }\n\n    .dataframe thead th {\n        text-align: right;\n    }\n</style>\n<table border=\"1\" class=\"dataframe\">\n  <thead>\n    <tr style=\"text-align: right;\">\n      <th></th>\n      <th>Mes</th>\n      <th>Tarifa</th>\n      <th>Segmento</th>\n      <th>Unidades</th>\n      <th>Concepto</th>\n      <th>Division</th>\n      <th>Int. Horario</th>\n      <th>Cargos tarifarios</th>\n    </tr>\n  </thead>\n  <tbody>\n    <tr>\n      <th>15595</th>\n      <td>diciembre 2020</td>\n      <td>GDMTH</td>\n      <td>CENACE</td>\n      <td>$/kWh</td>\n      <td>Energia</td>\n      <td>Golfo Norte</td>\n      <td>NaN</td>\n      <td>0.0080</td>\n    </tr>\n    <tr>\n      <th>15940</th>\n      <td>diciembre 2020</td>\n      <td>GDMTH</td>\n      <td>Generacion</td>\n      <td>$/kWh</td>\n      <td>Energia</td>\n      <td>Golfo Norte</td>\n      <td>B</td>\n      <td>0.8509</td>\n    </tr>\n    <tr>\n      <th>15941</th>\n      <td>diciembre 2020</td>\n      <td>GDMTH</td>\n      <td>Generacion</td>\n      <td>$/kWh</td>\n      <td>Energia</td>\n      <td>Golfo Norte</td>\n      <td>I</td>\n      <td>1.3076</td>\n    </tr>\n    <tr>\n      <th>15942</th>\n      <td>diciembre 2020</td>\n      <td>GDMTH</td>\n      <td>Generacion</td>\n      <td>$/kWh</td>\n      <td>Energia</td>\n      <td>Golfo Norte</td>\n      <td>P</td>\n      <td>1.417</td>\n    </tr>\n    <tr>\n      <th>16224</th>\n      <td>diciembre 2020</td>\n      <td>GDMTH</td>\n      <td>Transmision</td>\n      <td>$/kWh</td>\n      <td>Energia</td>\n      <td>Golfo Norte</td>\n      <td>NaN</td>\n      <td>0.1679</td>\n    </tr>\n    <tr>\n      <th>16374</th>\n      <td>diciembre 2020</td>\n      <td>GDMTH</td>\n      <td>Distribucion</td>\n      <td>$/kW</td>\n      <td>Potencia</td>\n      <td>Golfo Norte</td>\n      <td>NaN</td>\n      <td>56.5600</td>\n    </tr>\n    <tr>\n      <th>16513</th>\n      <td>diciembre 2020</td>\n      <td>GDMTH</td>\n      <td>Capacidad</td>\n      <td>$/kW</td>\n      <td>Potencia</td>\n      <td>Golfo Norte</td>\n      <td>NaN</td>\n      <td>325.0169</td>\n    </tr>\n    <tr>\n      <th>16717</th>\n      <td>diciembre 2020</td>\n      <td>GDMTH</td>\n      <td>Suministro</td>\n      <td>$/Cliente</td>\n      <td>Usuarios</td>\n      <td>Golfo Norte</td>\n      <td>NaN</td>\n      <td>558.8100</td>\n    </tr>\n    <tr>\n      <th>16921</th>\n      <td>diciembre 2020</td>\n      <td>GDMTH</td>\n      <td>SCnMEM</td>\n      <td>$/kWh</td>\n      <td>Energia</td>\n      <td>Golfo Norte</td>\n      <td>NaN</td>\n      <td>0.0056</td>\n    </tr>\n  </tbody>\n</table>\n</div>"
     },
     "metadata": {},
     "execution_count": 42
    }
   ],
   "source": [
    "data"
   ]
  },
  {
   "cell_type": "code",
   "execution_count": 43,
   "metadata": {},
   "outputs": [],
   "source": [
    "def delete_rows_that_contain(*words):\n",
    "    for word in words:\n",
    "        data[~data.Segmento.str.contains(word)]\n",
    "\n",
    "delete_rows_that_contain('Transmision','CENACE','SCnMEM')"
   ]
  },
  {
   "cell_type": "code",
   "execution_count": 44,
   "metadata": {},
   "outputs": [
    {
     "output_type": "execute_result",
     "data": {
      "text/plain": [
       "                  Mes Tarifa      Segmento   Unidades  Concepto     Division  \\\n",
       "15595  diciembre 2020  GDMTH        CENACE      $/kWh   Energia  Golfo Norte   \n",
       "15940  diciembre 2020  GDMTH    Generacion      $/kWh   Energia  Golfo Norte   \n",
       "15941  diciembre 2020  GDMTH    Generacion      $/kWh   Energia  Golfo Norte   \n",
       "15942  diciembre 2020  GDMTH    Generacion      $/kWh   Energia  Golfo Norte   \n",
       "16224  diciembre 2020  GDMTH   Transmision      $/kWh   Energia  Golfo Norte   \n",
       "16374  diciembre 2020  GDMTH  Distribucion       $/kW  Potencia  Golfo Norte   \n",
       "16513  diciembre 2020  GDMTH     Capacidad       $/kW  Potencia  Golfo Norte   \n",
       "16717  diciembre 2020  GDMTH    Suministro  $/Cliente  Usuarios  Golfo Norte   \n",
       "16921  diciembre 2020  GDMTH        SCnMEM      $/kWh   Energia  Golfo Norte   \n",
       "\n",
       "      Int. Horario Cargos tarifarios  \n",
       "15595          NaN            0.0080  \n",
       "15940            B            0.8509  \n",
       "15941            I            1.3076  \n",
       "15942            P             1.417  \n",
       "16224          NaN            0.1679  \n",
       "16374          NaN           56.5600  \n",
       "16513          NaN          325.0169  \n",
       "16717          NaN          558.8100  \n",
       "16921          NaN            0.0056  "
      ],
      "text/html": "<div>\n<style scoped>\n    .dataframe tbody tr th:only-of-type {\n        vertical-align: middle;\n    }\n\n    .dataframe tbody tr th {\n        vertical-align: top;\n    }\n\n    .dataframe thead th {\n        text-align: right;\n    }\n</style>\n<table border=\"1\" class=\"dataframe\">\n  <thead>\n    <tr style=\"text-align: right;\">\n      <th></th>\n      <th>Mes</th>\n      <th>Tarifa</th>\n      <th>Segmento</th>\n      <th>Unidades</th>\n      <th>Concepto</th>\n      <th>Division</th>\n      <th>Int. Horario</th>\n      <th>Cargos tarifarios</th>\n    </tr>\n  </thead>\n  <tbody>\n    <tr>\n      <th>15595</th>\n      <td>diciembre 2020</td>\n      <td>GDMTH</td>\n      <td>CENACE</td>\n      <td>$/kWh</td>\n      <td>Energia</td>\n      <td>Golfo Norte</td>\n      <td>NaN</td>\n      <td>0.0080</td>\n    </tr>\n    <tr>\n      <th>15940</th>\n      <td>diciembre 2020</td>\n      <td>GDMTH</td>\n      <td>Generacion</td>\n      <td>$/kWh</td>\n      <td>Energia</td>\n      <td>Golfo Norte</td>\n      <td>B</td>\n      <td>0.8509</td>\n    </tr>\n    <tr>\n      <th>15941</th>\n      <td>diciembre 2020</td>\n      <td>GDMTH</td>\n      <td>Generacion</td>\n      <td>$/kWh</td>\n      <td>Energia</td>\n      <td>Golfo Norte</td>\n      <td>I</td>\n      <td>1.3076</td>\n    </tr>\n    <tr>\n      <th>15942</th>\n      <td>diciembre 2020</td>\n      <td>GDMTH</td>\n      <td>Generacion</td>\n      <td>$/kWh</td>\n      <td>Energia</td>\n      <td>Golfo Norte</td>\n      <td>P</td>\n      <td>1.417</td>\n    </tr>\n    <tr>\n      <th>16224</th>\n      <td>diciembre 2020</td>\n      <td>GDMTH</td>\n      <td>Transmision</td>\n      <td>$/kWh</td>\n      <td>Energia</td>\n      <td>Golfo Norte</td>\n      <td>NaN</td>\n      <td>0.1679</td>\n    </tr>\n    <tr>\n      <th>16374</th>\n      <td>diciembre 2020</td>\n      <td>GDMTH</td>\n      <td>Distribucion</td>\n      <td>$/kW</td>\n      <td>Potencia</td>\n      <td>Golfo Norte</td>\n      <td>NaN</td>\n      <td>56.5600</td>\n    </tr>\n    <tr>\n      <th>16513</th>\n      <td>diciembre 2020</td>\n      <td>GDMTH</td>\n      <td>Capacidad</td>\n      <td>$/kW</td>\n      <td>Potencia</td>\n      <td>Golfo Norte</td>\n      <td>NaN</td>\n      <td>325.0169</td>\n    </tr>\n    <tr>\n      <th>16717</th>\n      <td>diciembre 2020</td>\n      <td>GDMTH</td>\n      <td>Suministro</td>\n      <td>$/Cliente</td>\n      <td>Usuarios</td>\n      <td>Golfo Norte</td>\n      <td>NaN</td>\n      <td>558.8100</td>\n    </tr>\n    <tr>\n      <th>16921</th>\n      <td>diciembre 2020</td>\n      <td>GDMTH</td>\n      <td>SCnMEM</td>\n      <td>$/kWh</td>\n      <td>Energia</td>\n      <td>Golfo Norte</td>\n      <td>NaN</td>\n      <td>0.0056</td>\n    </tr>\n  </tbody>\n</table>\n</div>"
     },
     "metadata": {},
     "execution_count": 44
    }
   ],
   "source": [
    "data"
   ]
  },
  {
   "cell_type": "code",
   "execution_count": null,
   "metadata": {},
   "outputs": [],
   "source": []
  }
 ]
}